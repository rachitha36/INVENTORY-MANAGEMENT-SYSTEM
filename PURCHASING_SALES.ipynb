{
  "nbformat": 4,
  "nbformat_minor": 0,
  "metadata": {
    "colab": {
      "name": "PURCHASING SALES.ipynb",
      "provenance": []
    },
    "kernelspec": {
      "name": "python3",
      "display_name": "Python 3"
    },
    "language_info": {
      "name": "python"
    }
  },
  "cells": [
    {
      "cell_type": "markdown",
      "metadata": {
        "id": "BJL7j2ewmSN1"
      },
      "source": [
        "PURCHASING SALES"
      ]
    },
    {
      "cell_type": "code",
      "metadata": {
        "id": "FRdJ0PwQmWKO"
      },
      "source": [
        "import json\n",
        "\n",
        "fd = open(\"record.json\",\"r\")\n",
        "r = fd.read()\n",
        "fd.close()\n",
        "\n",
        "records = json.loads(r)"
      ],
      "execution_count": 1,
      "outputs": []
    },
    {
      "cell_type": "code",
      "metadata": {
        "colab": {
          "base_uri": "https://localhost:8080/"
        },
        "id": "XazHKNvVnhnV",
        "outputId": "37a296a3-42ab-4a60-83c4-a79ec3fca3d7"
      },
      "source": [
        "amount = 0\n",
        "\n",
        "print(\"enter number of products to buy\")\n",
        "li = int(input())\n",
        "for i in range(li):\n",
        "    u_pro = str(input(\"enter the product id:\"))\n",
        "    u_qty = int(input(\"enter quantity required:\"))\n",
        "    total = records[u_pro]['price'] * u_qty\n",
        "    \n",
        "    if u_qty == 0 or u_qty > records[u_pro]['quantity']:\n",
        "        print(\"Sorry ,out of stock\")\n",
        "    else:\n",
        "      \n",
        "        print(\"Product: \",records[u_pro]['name'])\n",
        "        print(\"Quantity Available: \",records[u_pro]['quantity'])\n",
        "        print(\"Quantity Ordered: \",u_qty)\n",
        "        print(\"Price: \",records[u_pro]['price'])\n",
        "        print(\"Total: \",total)\n",
        "        \n",
        "\n",
        "        amount +=total \n",
        "        print(\"Total amount: \",amount)\n",
        "       \n",
        "        \n",
        "print(\"THANKS FOR SHOPPING\")    \n",
        "records[u_pro]['quantity'] -= u_qty\n"
      ],
      "execution_count": 10,
      "outputs": [
        {
          "output_type": "stream",
          "name": "stdout",
          "text": [
            "enter number of products to buy\n",
            "1\n",
            "enter the product id:1004\n",
            "enter quantity required:2\n",
            "Product:  Bananas\n",
            "Quantity Available:  28\n",
            "Quantity Ordered:  2\n",
            "Price:  30\n",
            "Total:  60\n",
            "Total amount:  60\n",
            "THANKS FOR SHOPPING\n"
          ]
        }
      ]
    },
    {
      "cell_type": "code",
      "metadata": {
        "colab": {
          "base_uri": "https://localhost:8080/"
        },
        "id": "gd0CifuSoBSR",
        "outputId": "0a289d61-76b8-4e03-b083-83fe7763d52c"
      },
      "source": [
        "\n",
        "u_name = str(input())\n",
        "u_contact = int(input())\n",
        "pay_type = str(input())\n",
        "\n",
        "\n",
        "sales[(len(sales) + 1)] = {'user' : u_name, 'contact' : u_contact, 'no_of_items' : li,'Total' : amount,'pay' : pay_type}\n",
        "\n"
      ],
      "execution_count": 12,
      "outputs": [
        {
          "name": "stdout",
          "output_type": "stream",
          "text": [
            "charan\n",
            "999\n",
            "gpay\n"
          ]
        }
      ]
    },
    {
      "cell_type": "code",
      "metadata": {
        "colab": {
          "base_uri": "https://localhost:8080/"
        },
        "id": "dtI9pyXBoYWX",
        "outputId": "ad320c26-0987-46e9-8526-ad3210372717"
      },
      "source": [
        "sales"
      ],
      "execution_count": 13,
      "outputs": [
        {
          "output_type": "execute_result",
          "data": {
            "text/plain": [
              "{1: {'Total': 260,\n",
              "  'contact': 777,\n",
              "  'no_of_items': 2,\n",
              "  'pay': 'online',\n",
              "  'user': 'RACHI'},\n",
              " 2: {'Total': 260,\n",
              "  'contact': 753214,\n",
              "  'no_of_items': 2,\n",
              "  'pay': 'paytm',\n",
              "  'user': 'rachi'},\n",
              " 3: {'Total': 60,\n",
              "  'contact': 999,\n",
              "  'no_of_items': 1,\n",
              "  'pay': 'gpay',\n",
              "  'user': 'charan'}}"
            ]
          },
          "metadata": {},
          "execution_count": 13
        }
      ]
    },
    {
      "cell_type": "code",
      "metadata": {
        "id": "m_oncA8Ho3g5"
      },
      "source": [
        "sale = json.dumps(sales)"
      ],
      "execution_count": 7,
      "outputs": []
    },
    {
      "cell_type": "code",
      "metadata": {
        "id": "JUojd8a5o3nK"
      },
      "source": [
        "fd = open(\"sales.json\",'w')\n",
        "\n",
        "fd.write(sale)\n",
        "\n",
        "fd.close()\n"
      ],
      "execution_count": 8,
      "outputs": []
    }
  ]
}